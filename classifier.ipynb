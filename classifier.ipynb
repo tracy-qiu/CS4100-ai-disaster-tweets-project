{
  "cells": [
    {
      "cell_type": "code",
      "execution_count": 1,
      "metadata": {
        "colab": {
          "base_uri": "https://localhost:8080/"
        },
        "id": "a9H4gMCBSFiQ",
        "outputId": "8bfb20bc-ea89-4ba6-d3a8-7c5379c94522"
      },
      "outputs": [
        {
          "name": "stderr",
          "output_type": "stream",
          "text": [
            "[nltk_data] Downloading package punkt to\n",
            "[nltk_data]     C:\\Users\\Rachel\\AppData\\Roaming\\nltk_data...\n",
            "[nltk_data]   Package punkt is already up-to-date!\n",
            "[nltk_data] Downloading package wordnet to\n",
            "[nltk_data]     C:\\Users\\Rachel\\AppData\\Roaming\\nltk_data...\n",
            "[nltk_data]   Package wordnet is already up-to-date!\n"
          ]
        },
        {
          "name": "stdout",
          "output_type": "stream",
          "text": [
            "WARNING:tensorflow:From C:\\Users\\Rachel\\AppData\\Local\\Packages\\PythonSoftwareFoundation.Python.3.11_qbz5n2kfra8p0\\LocalCache\\local-packages\\Python311\\site-packages\\keras\\src\\losses.py:2976: The name tf.losses.sparse_softmax_cross_entropy is deprecated. Please use tf.compat.v1.losses.sparse_softmax_cross_entropy instead.\n",
            "\n"
          ]
        }
      ],
      "source": [
        "# Import necessary libraries\n",
        "import pandas as pd\n",
        "import numpy as np\n",
        "\n",
        "# NLP libraries\n",
        "import nltk\n",
        "from nltk.stem import WordNetLemmatizer\n",
        "nltk.download('punkt')\n",
        "nltk.download('wordnet')\n",
        "\n",
        "# ML libraries\n",
        "from sklearn import metrics\n",
        "from sklearn.preprocessing import StandardScaler\n",
        "from sklearn.linear_model import LogisticRegression\n",
        "from sklearn.naive_bayes import MultinomialNB\n",
        "from sklearn.feature_extraction.text import CountVectorizer\n",
        "from sklearn.model_selection import train_test_split\n",
        "from sklearn.metrics import confusion_matrix\n",
        "import joblib\n",
        "\n",
        "# Neural Networks libraries\n",
        "import tensorflow as tf\n",
        "from tensorflow import keras\n",
        "from tensorflow.keras import layers\n",
        "from tensorflow.keras.preprocessing.sequence import pad_sequences\n",
        "\n",
        "from keras.preprocessing.text import Tokenizer\n",
        "from keras.utils import to_categorical\n",
        "from keras.layers import Dense, LSTM, Dropout, Bidirectional,Flatten\n",
        "from keras.models import Sequential\n",
        "     \n",
        "# Visualization librations\n",
        "import matplotlib.pyplot as plt\n",
        "import seaborn as sns\n",
        "\n",
        "# Word Cloud libraries\n",
        "from wordcloud import WordCloud, STOPWORDS \n",
        "from PIL import Image\n",
        "import requests"
      ]
    },
    {
      "cell_type": "code",
      "execution_count": 2,
      "metadata": {
        "id": "DOkUpI-WSH8n"
      },
      "outputs": [],
      "source": [
        "# lemmatizer\n",
        "lm = WordNetLemmatizer()\n",
        "\n",
        "# Checks if given word contains a special character\n",
        "def contains_special(word):\n",
        "    for char in word:\n",
        "        if char.isnumeric() or (not char.isalnum()):\n",
        "            return True\n",
        "    return False\n",
        "\n",
        "# process sentences\n",
        "def process_sentences(sentence):\n",
        "    # tokenize, lemmatize, and remove special characters\n",
        "    processed = [lm.lemmatize(word.lower()) for word in nltk.word_tokenize(sentence)\n",
        "          # make sure no strings that contain only numeric characters\n",
        "          if not contains_special(word)]\n",
        "    return ' '.join(processed)"
      ]
    },
    {
      "cell_type": "code",
      "execution_count": 3,
      "metadata": {
        "id": "52uaa-DwYYTR"
      },
      "outputs": [],
      "source": [
        "# get data\n",
        "df = pd.read_csv('tweets.csv')\n",
        "# drop duplicates\n",
        "df.drop_duplicates(inplace =True)\n",
        "X = df['text']\n",
        "y = df['target']"
      ]
    },
    {
      "cell_type": "code",
      "execution_count": 4,
      "metadata": {
        "colab": {
          "base_uri": "https://localhost:8080/"
        },
        "id": "vbN4bruno61m",
        "outputId": "01046654-d23d-4cf7-d9ae-673c37911375"
      },
      "outputs": [
        {
          "data": {
            "text/plain": [
              "target\n",
              "0    9256\n",
              "1    2114\n",
              "Name: count, dtype: int64"
            ]
          },
          "execution_count": 4,
          "metadata": {},
          "output_type": "execute_result"
        }
      ],
      "source": [
        "y.value_counts()"
      ]
    },
    {
      "cell_type": "code",
      "execution_count": 5,
      "metadata": {},
      "outputs": [],
      "source": [
        "# text pre-processing\n",
        "X = X.apply(process_sentences)"
      ]
    },
    {
      "cell_type": "code",
      "execution_count": 6,
      "metadata": {},
      "outputs": [
        {
          "data": {
            "text/plain": [
              "'communal violence in bhainsa telangana stone were pelted on muslim house and some house and vehicle were set'"
            ]
          },
          "execution_count": 6,
          "metadata": {},
          "output_type": "execute_result"
        }
      ],
      "source": [
        "X[0]"
      ]
    },
    {
      "cell_type": "code",
      "execution_count": 7,
      "metadata": {
        "colab": {
          "base_uri": "https://localhost:8080/"
        },
        "id": "qZLW4iIRYHVX",
        "outputId": "f9d4cd99-a1ca-4f02-ec34-5437b6595d6d"
      },
      "outputs": [
        {
          "name": "stdout",
          "output_type": "stream",
          "text": [
            "Vocab size: 16985\n"
          ]
        },
        {
          "data": {
            "text/plain": [
              "['vectorizer.pk1']"
            ]
          },
          "execution_count": 7,
          "metadata": {},
          "output_type": "execute_result"
        }
      ],
      "source": [
        "\n",
        "# Convert text data into BoW features\n",
        "vectorizer = CountVectorizer()\n",
        "X = vectorizer.fit_transform(X)\n",
        "vocabulary = vectorizer.vocabulary_\n",
        "print('Vocab size: ' + str(len(vocabulary)))\n",
        "joblib.dump(vectorizer, \"vectorizer.pk1\")\n"
      ]
    },
    {
      "cell_type": "code",
      "execution_count": 8,
      "metadata": {
        "colab": {
          "base_uri": "https://localhost:8080/"
        },
        "id": "Bq0a9ylnZJ53",
        "outputId": "2b72eb62-90b2-4147-8ba7-bef390f64e39"
      },
      "outputs": [
        {
          "data": {
            "text/plain": [
              "6955"
            ]
          },
          "execution_count": 8,
          "metadata": {},
          "output_type": "execute_result"
        }
      ],
      "source": [
        "vocabulary['house']"
      ]
    },
    {
      "cell_type": "code",
      "execution_count": 9,
      "metadata": {
        "id": "6BKU8gR-eghi"
      },
      "outputs": [],
      "source": [
        "# split data into train and test set\n",
        "X_train, X_test, y_train, y_test = train_test_split(X.toarray(), y, test_size=0.25, random_state=1)\n"
      ]
    },
    {
      "cell_type": "code",
      "execution_count": 10,
      "metadata": {
        "colab": {
          "base_uri": "https://localhost:8080/"
        },
        "id": "Cq-bGF8QoqZG",
        "outputId": "e11a3a43-88dc-493f-b9ac-146b289b671d"
      },
      "outputs": [
        {
          "name": "stdout",
          "output_type": "stream",
          "text": [
            "Naive Bayes\n",
            "\n",
            "accuracy: 0.8695040450228632\n",
            "              precision    recall  f1-score   support\n",
            "\n",
            "           0       0.92      0.93      0.92      2321\n",
            "           1       0.65      0.62      0.64       522\n",
            "\n",
            "    accuracy                           0.87      2843\n",
            "   macro avg       0.78      0.77      0.78      2843\n",
            "weighted avg       0.87      0.87      0.87      2843\n",
            "\n"
          ]
        }
      ],
      "source": [
        "# Naive Bayes\n",
        "def naive_bayes(X_train, X_test, y_train, y_test):\n",
        "    # increased max iter to prevent early time out\n",
        "    clf = MultinomialNB().fit(X_train, y_train)\n",
        "    y_pred = clf.predict(X_test)\n",
        "    print('accuracy:', metrics.accuracy_score(y_test, y_pred))\n",
        "    print(metrics.classification_report(y_test,\n",
        "                                    y_pred))\n",
        "    \n",
        "    # save model\n",
        "    joblib.dump(clf, \"naive_bayes_model.pk1\")\n",
        "\n",
        "    return y_pred\n",
        "\n",
        "print('Naive Bayes\\n')\n",
        "ypred_nb = naive_bayes(X_train, X_test, y_train, y_test)"
      ]
    },
    {
      "cell_type": "code",
      "execution_count": 11,
      "metadata": {},
      "outputs": [
        {
          "data": {
            "image/png": "[encoded data removed]",
            "text/plain": [
              "<Figure size 600x400 with 2 Axes>"
            ]
          },
          "metadata": {},
          "output_type": "display_data"
        }
      ],
      "source": [
        "#Plot Naive Bayes confusion matrix\n",
        "cf_matrix = confusion_matrix(y_test, ypred_nb)\n",
        "categories = ['Non-Disaster', 'Disaster']\n",
        "cf_normalized = cf_matrix.astype('float') / cf_matrix.sum(axis=1)[:, np.newaxis]\n",
        "plt.figure(figsize= (6,4))\n",
        "sns.heatmap(cf_normalized, annot=True, fmt='.2f', cmap='Blues',\n",
        "            xticklabels=categories, yticklabels=categories)\n",
        "plt.xlabel('Predicted')\n",
        "plt.ylabel('Actual')\n",
        "plt.title('Naive Bayes Confusion Matrix')\n",
        "plt.show()\n"
      ]
    },
    {
      "cell_type": "code",
      "execution_count": 12,
      "metadata": {
        "colab": {
          "base_uri": "https://localhost:8080/"
        },
        "id": "yT6YA0Qjfl3a",
        "outputId": "068988b5-eeaa-46db-b4e1-eda825a8bfed"
      },
      "outputs": [
        {
          "name": "stdout",
          "output_type": "stream",
          "text": [
            "Logistic Regression\n",
            "\n",
            "accuracy: 0.8712627506155469\n",
            "              precision    recall  f1-score   support\n",
            "\n",
            "           0       0.91      0.94      0.92      2321\n",
            "           1       0.67      0.58      0.62       522\n",
            "\n",
            "    accuracy                           0.87      2843\n",
            "   macro avg       0.79      0.76      0.77      2843\n",
            "weighted avg       0.87      0.87      0.87      2843\n",
            "\n"
          ]
        }
      ],
      "source": [
        "# Logistic Regression\n",
        "def logistic_regression(X_train, X_test, y_train, y_test):\n",
        "    scaler = StandardScaler()\n",
        "    # scale data to reduce ranges\n",
        "    X_train = scaler.fit_transform(X_train)\n",
        "    X_test = scaler.transform(X_test)\n",
        "    # increased max iter to prevent early time out\n",
        "    clf = LogisticRegression(max_iter = 500).fit(X_train, y_train)\n",
        "    y_pred = clf.predict(X_test)\n",
        "    print('accuracy:', metrics.accuracy_score(y_test, y_pred))\n",
        "    print(metrics.classification_report(y_test,\n",
        "                                    y_pred))\n",
        "\n",
        "    # save model\n",
        "    joblib.dump(clf, \"logistic_regression_model.pk1\")\n",
        "\n",
        "    return y_pred\n",
        "\n",
        "print('Logistic Regression\\n')\n",
        "ypred_lr = logistic_regression(X_train, X_test, y_train, y_test)"
      ]
    },
    {
      "cell_type": "code",
      "execution_count": 13,
      "metadata": {
        "id": "tb6nyfLbjoJI"
      },
      "outputs": [
        {
          "data": {
            "image/png": "[encoded data removed]",
            "text/plain": [
              "<Figure size 600x400 with 2 Axes>"
            ]
          },
          "metadata": {},
          "output_type": "display_data"
        }
      ],
      "source": [
        "#Plot Logistic Regression confusion matrix\n",
        "cf_matrix = confusion_matrix(y_test, ypred_lr)\n",
        "categories = ['Non-Disaster', 'Disaster']\n",
        "cf_normalized = cf_matrix.astype('float') / cf_matrix.sum(axis=1)[:, np.newaxis]\n",
        "plt.figure(figsize= (6,4))\n",
        "sns.heatmap(cf_normalized, annot=True, fmt='.2f', cmap='Blues',\n",
        "            xticklabels=categories, yticklabels=categories)\n",
        "plt.xlabel('Predicted')\n",
        "plt.ylabel('Actual')\n",
        "plt.title('Logistic Regression Confusion Matrix')\n",
        "plt.show()"
      ]
    },
    {
      "cell_type": "code",
      "execution_count": 14,
      "metadata": {},
      "outputs": [],
      "source": [
        "# get data\n",
        "df = pd.read_csv('tweets.csv')\n",
        "# drop duplicates\n",
        "df.drop_duplicates(inplace =True)\n",
        "\n",
        "X = df['text']\n",
        "y = df['target']\n",
        "\n",
        "# text pre-pro|cessing\n",
        "X = X.apply(process_sentences)"
      ]
    },
    {
      "cell_type": "code",
      "execution_count": 15,
      "metadata": {},
      "outputs": [],
      "source": [
        "from gensim.models import Word2Vec\n",
        "\n",
        "def get_embeddings(data, size):\n",
        "  return Word2Vec(sentences=data, vector_size=size, window=5, min_count=1,\n",
        "                 sg=1)\n",
        "\n",
        "# get a mapping of word -> embedding, word_index -> embedding\n",
        "def map_embeddings(model, tokenizer):\n",
        "    # all vocab\n",
        "    vocab = list(model.wv.index_to_key)\n",
        "    # word to word index map\n",
        "    word_index = tokenizer.word_index\n",
        "    # word to embedding map\n",
        "    word_embed = {}\n",
        "    # word index to embedding map\n",
        "    index_embed = {}\n",
        "\n",
        "    for w in vocab:\n",
        "        # get current word's embedding\n",
        "        e = model.wv[w]\n",
        "        # set embedding for current word\n",
        "        word_embed[w] = e\n",
        "        # set embedding for current word index\n",
        "        curr_index = word_index[w]\n",
        "        index_embed[curr_index] = e\n",
        "    return word_embed, index_embed\n",
        "\n",
        "# pre-padding data to fixed length token for NN input\n",
        "def pre_padding(encoded, seq_length, model):\n",
        "    if model == \"rnn\":\n",
        "      X = []\n",
        "      for row in encoded:\n",
        "          for i in range(1, len(row) - 1):\n",
        "              X.append(row[:i])\n",
        "    X = pad_sequences(encoded, maxlen = seq_length)\n",
        "    return X\n",
        "\n",
        "# convert data into 3D matrix (total rows, max sequence length, embedding size) for LSTM\n",
        "def reshape_data(X, index_embed):\n",
        "  reshaped = []\n",
        "  for seq in X:\n",
        "    # get embeddings for each word index in sequence\n",
        "    seq_embed = [index_embed[index] for index in seq]\n",
        "    reshaped.append(seq_embed)\n",
        "  # convert to numpy array\n",
        "  return np.array(reshaped)\n",
        "\n",
        "\n",
        "def data_generator(X, y, num_sequences, index_embed, model) -> (list,list):\n",
        "    i = 0\n",
        "    while i < len(X):\n",
        "        # end range of data for current batch\n",
        "        end_index = i + num_sequences\n",
        "        # reached end of our dataset\n",
        "        if end_index >= len(X) - 1:\n",
        "            i = 0\n",
        "            end_index = i + num_sequences\n",
        "\n",
        "        if model == \"ffnn\":\n",
        "          # we need to flatten our inputs for a feedforward network\n",
        "          inputs = [input.flatten() for input in X[i:end_index]]\n",
        "        else:\n",
        "          inputs = [val for val in X[i:end_index]]\n",
        "\n",
        "        outputs = [val for val in y[i:end_index]]\n",
        "        yield np.array(inputs), np.array(outputs)\n",
        "        i += num_sequences\n",
        "\n",
        "     "
      ]
    },
    {
      "cell_type": "code",
      "execution_count": 16,
      "metadata": {},
      "outputs": [
        {
          "name": "stdout",
          "output_type": "stream",
          "text": [
            "Vocab size 17020\n"
          ]
        },
        {
          "data": {
            "text/plain": [
              "['word2vec_vectorizer.pk1']"
            ]
          },
          "execution_count": 16,
          "metadata": {},
          "output_type": "execute_result"
        }
      ],
      "source": [
        "\n",
        "# process data for Gensim's Word2Vec\n",
        "X = X.apply(nltk.word_tokenize)\n",
        "word2vec = get_embeddings(X,200)\n",
        "vocab_size = len(word2vec.wv.index_to_key)\n",
        "print('Vocab size {}'.format(vocab_size))\n",
        "joblib.dump(word2vec, \"word2vec_vectorizer.pk1\")\n"
      ]
    },
    {
      "cell_type": "code",
      "execution_count": 17,
      "metadata": {},
      "outputs": [
        {
          "data": {
            "text/plain": [
              "[('those', 0.9499421715736389),\n",
              " ('many', 0.9135306477546692),\n",
              " ('these', 0.9077861905097961),\n",
              " ('animal', 0.8899538516998291),\n",
              " ('american', 0.8842775821685791),\n",
              " ('other', 0.8804814219474792),\n",
              " ('innocent', 0.8797262907028198),\n",
              " ('their', 0.8781307935714722),\n",
              " ('hostage', 0.8778972029685974),\n",
              " ('displaced', 0.8654568791389465)]"
            ]
          },
          "execution_count": 17,
          "metadata": {},
          "output_type": "execute_result"
        }
      ],
      "source": [
        "word2vec.wv.most_similar('people', topn = 10)\n"
      ]
    },
    {
      "cell_type": "code",
      "execution_count": 18,
      "metadata": {},
      "outputs": [],
      "source": [
        "tokenizer = Tokenizer()\n",
        "tokenizer.fit_on_texts(X)\n",
        "embedding_size = 200\n",
        "# embeddings\n",
        "word_embed, index_embed = map_embeddings(word2vec, tokenizer)\n",
        "# set embeddings for zero index\n",
        "index_embed[0] = np.zeros((embedding_size,))\n",
        "word_embed[''] = np.zeros((embedding_size,))\n",
        "vocab_size = len(word_embed.keys())"
      ]
    },
    {
      "cell_type": "code",
      "execution_count": 19,
      "metadata": {},
      "outputs": [],
      "source": [
        "# encode data into word indexes\n",
        "encoded_data = tokenizer.texts_to_sequences(X)\n",
        "# max sequence length\n",
        "max_sequence_length = np.max([len(seq) for seq in encoded_data])\n",
        "# prepadding on data\n",
        "ffnn_pre_padded_X = pre_padding(encoded_data, max_sequence_length, \"ffnn\")\n",
        "rnn_pre_padded_X = pre_padding(encoded_data, max_sequence_length, \"rnn\")"
      ]
    },
    {
      "cell_type": "code",
      "execution_count": 20,
      "metadata": {},
      "outputs": [
        {
          "name": "stdout",
          "output_type": "stream",
          "text": [
            "(11370, 30, 200)\n"
          ]
        }
      ],
      "source": [
        "# convert pre-padded and encoded data into 3D shape for FFNN input\n",
        "ffnn_X = reshape_data(ffnn_pre_padded_X, index_embed)\n",
        "print(ffnn_X.shape)"
      ]
    },
    {
      "cell_type": "code",
      "execution_count": 21,
      "metadata": {},
      "outputs": [
        {
          "name": "stdout",
          "output_type": "stream",
          "text": [
            "(11370, 30, 200)\n"
          ]
        }
      ],
      "source": [
        "\n",
        "# convert pre-padded and encoded data into 3D shape for FFNN input\n",
        "rnn_X = reshape_data(rnn_pre_padded_X, index_embed)\n",
        "print(rnn_X.shape)\n",
        "     "
      ]
    },
    {
      "cell_type": "code",
      "execution_count": 22,
      "metadata": {},
      "outputs": [],
      "source": [
        "X_train, X_test, y_train, y_test = train_test_split(ffnn_X, y, test_size=0.25, random_state=1)\n"
      ]
    },
    {
      "cell_type": "code",
      "execution_count": 23,
      "metadata": {},
      "outputs": [
        {
          "name": "stdout",
          "output_type": "stream",
          "text": [
            "WARNING:tensorflow:From C:\\Users\\Rachel\\AppData\\Local\\Packages\\PythonSoftwareFoundation.Python.3.11_qbz5n2kfra8p0\\LocalCache\\local-packages\\Python311\\site-packages\\keras\\src\\backend.py:873: The name tf.get_default_graph is deprecated. Please use tf.compat.v1.get_default_graph instead.\n",
            "\n",
            "WARNING:tensorflow:From C:\\Users\\Rachel\\AppData\\Local\\Packages\\PythonSoftwareFoundation.Python.3.11_qbz5n2kfra8p0\\LocalCache\\local-packages\\Python311\\site-packages\\keras\\src\\optimizers\\__init__.py:309: The name tf.train.Optimizer is deprecated. Please use tf.compat.v1.train.Optimizer instead.\n",
            "\n",
            "Epoch 1/10\n",
            "WARNING:tensorflow:From C:\\Users\\Rachel\\AppData\\Local\\Packages\\PythonSoftwareFoundation.Python.3.11_qbz5n2kfra8p0\\LocalCache\\local-packages\\Python311\\site-packages\\keras\\src\\utils\\tf_utils.py:492: The name tf.ragged.RaggedTensorValue is deprecated. Please use tf.compat.v1.ragged.RaggedTensorValue instead.\n",
            "\n",
            "WARNING:tensorflow:From C:\\Users\\Rachel\\AppData\\Local\\Packages\\PythonSoftwareFoundation.Python.3.11_qbz5n2kfra8p0\\LocalCache\\local-packages\\Python311\\site-packages\\keras\\src\\engine\\base_layer_utils.py:384: The name tf.executing_eagerly_outside_functions is deprecated. Please use tf.compat.v1.executing_eagerly_outside_functions instead.\n",
            "\n",
            "33/33 [==============================] - 3s 30ms/step - loss: 0.4303 - accuracy: 0.8208\n",
            "Epoch 2/10\n",
            "33/33 [==============================] - 1s 29ms/step - loss: 0.3615 - accuracy: 0.8501\n",
            "Epoch 3/10\n",
            "33/33 [==============================] - 1s 29ms/step - loss: 0.3461 - accuracy: 0.8581\n",
            "Epoch 4/10\n",
            "33/33 [==============================] - 1s 41ms/step - loss: 0.3358 - accuracy: 0.8625\n",
            "Epoch 5/10\n",
            "33/33 [==============================] - 1s 42ms/step - loss: 0.3251 - accuracy: 0.8673\n",
            "Epoch 6/10\n",
            "33/33 [==============================] - 1s 42ms/step - loss: 0.3186 - accuracy: 0.8687\n",
            "Epoch 7/10\n",
            "33/33 [==============================] - 1s 40ms/step - loss: 0.3140 - accuracy: 0.8712\n",
            "Epoch 8/10\n",
            "33/33 [==============================] - 1s 39ms/step - loss: 0.3075 - accuracy: 0.8767\n",
            "Epoch 9/10\n",
            "33/33 [==============================] - 1s 40ms/step - loss: 0.2946 - accuracy: 0.8809\n",
            "Epoch 10/10\n",
            "33/33 [==============================] - 1s 40ms/step - loss: 0.2832 - accuracy: 0.8846\n",
            "KerasTensor(type_spec=TensorSpec(shape=(None, 1), dtype=tf.float32, name=None), name='dense_3/Sigmoid:0', description=\"created by layer 'dense_3'\")\n"
          ]
        },
        {
          "data": {
            "text/plain": [
              "['feed_forward_model.pk1']"
            ]
          },
          "execution_count": 23,
          "metadata": {},
          "output_type": "execute_result"
        }
      ],
      "source": [
        "# Feedforward Neural Network\n",
        "# hyperparameters\n",
        "epochs = 10\n",
        "batches = 256\n",
        "steps = len(X_train)//batches\n",
        "\n",
        "# data generator\n",
        "train_generator = data_generator(X_train, y_train, batches, index_embed, \"ffnn\")\n",
        "\n",
        "# architecture\n",
        "model = Sequential()\n",
        "model.add(Dense(200, activation='relu', input_dim = max_sequence_length * embedding_size))\n",
        "model.add(Dense(128, activation='relu'))\n",
        "model.add(Dense(64, activation='relu'))\n",
        "# sigmoid for binary classification\n",
        "model.add(Dense(units= 1, activation='sigmoid'))\n",
        "model.compile(loss='binary_crossentropy', optimizer='adam', metrics=['accuracy'])\n",
        "\n",
        "model.fit(x= train_generator,\n",
        "          steps_per_epoch= steps,\n",
        "          epochs= epochs, verbose = 1)\n",
        "\n",
        "print(model.output)\n",
        "\n",
        "# save model\n",
        "joblib.dump(model, \"feed_forward_model.pk1\")\n"
      ]
    },
    {
      "cell_type": "code",
      "execution_count": 24,
      "metadata": {},
      "outputs": [
        {
          "name": "stdout",
          "output_type": "stream",
          "text": [
            "89/89 [==============================] - 1s 7ms/step\n"
          ]
        },
        {
          "data": {
            "image/png": "[encoded data removed]",
            "text/plain": [
              "<Figure size 600x400 with 2 Axes>"
            ]
          },
          "metadata": {},
          "output_type": "display_data"
        },
        {
          "name": "stdout",
          "output_type": "stream",
          "text": [
            "0.8586000703482237\n"
          ]
        }
      ],
      "source": [
        "#Plot Feed-foward Neural Network confusion matrix\n",
        "X_test_reshaped = X_test.reshape(X_test.shape[0], -1)\n",
        "predictions = model.predict(X_test_reshaped)\n",
        "threshold = 0.5\n",
        "y_pred = (predictions > threshold).astype(int)\n",
        "cf_matrix = confusion_matrix(y_test, y_pred)\n",
        "categories = ['Non-Disaster', 'Disaster']\n",
        "cf_normalized = cf_matrix.astype('float') / cf_matrix.sum(axis=1)[:, np.newaxis]\n",
        "plt.figure(figsize= (6,4))\n",
        "sns.heatmap(cf_normalized, annot=True, fmt='.2f', cmap='Blues',\n",
        "            xticklabels=categories, yticklabels=categories)\n",
        "plt.xlabel('Predicted')\n",
        "plt.ylabel('Actual')\n",
        "plt.title('Feed-Forward Neural Network Confusion Matrix')\n",
        "plt.show()\n",
        "\n",
        "accuracy = (cf_matrix[0, 0] + cf_matrix[1, 1]) / np.sum(cf_matrix)  # Calculate accuracy\n",
        "\n",
        "print(accuracy)\n",
        "\n"
      ]
    },
    {
      "cell_type": "code",
      "execution_count": 25,
      "metadata": {},
      "outputs": [],
      "source": [
        "X_train, X_test, y_train, y_test = train_test_split(rnn_X, y, test_size=0.25, random_state=1)"
      ]
    },
    {
      "cell_type": "code",
      "execution_count": 26,
      "metadata": {},
      "outputs": [
        {
          "name": "stdout",
          "output_type": "stream",
          "text": [
            "Epoch 1/5\n",
            "33/33 [==============================] - 49s 978ms/step - loss: 0.4448 - accuracy: 0.8047\n",
            "Epoch 2/5\n",
            "33/33 [==============================] - 37s 1s/step - loss: 0.3714 - accuracy: 0.8462\n",
            "Epoch 3/5\n",
            "33/33 [==============================] - 38s 1s/step - loss: 0.3565 - accuracy: 0.8516\n",
            "Epoch 4/5\n",
            "33/33 [==============================] - 40s 1s/step - loss: 0.3485 - accuracy: 0.8529\n",
            "Epoch 5/5\n",
            "33/33 [==============================] - 16s 446ms/step - loss: 0.3417 - accuracy: 0.8588\n",
            "KerasTensor(type_spec=TensorSpec(shape=(None, 1), dtype=tf.float32, name=None), name='dense_4/Sigmoid:0', description=\"created by layer 'dense_4'\")\n"
          ]
        },
        {
          "data": {
            "text/plain": [
              "['lstm_model.pk1']"
            ]
          },
          "execution_count": 26,
          "metadata": {},
          "output_type": "execute_result"
        }
      ],
      "source": [
        "# LSTM\n",
        "# hyperparameters\n",
        "epochs = 5\n",
        "batches = 256\n",
        "steps = len(X_train)//batches\n",
        "\n",
        "# Data generator\n",
        "train_generator = data_generator(X_train, y_train, batches, index_embed, \"rnn\")\n",
        "\n",
        "# Architecture\n",
        "model = Sequential()\n",
        "# LSTM input layer\n",
        "model.add(LSTM(200, input_shape=(max_sequence_length, embedding_size),return_sequences=True))\n",
        "# Dropout layer to prevent overfitting\n",
        "model.add(Dropout(0.2))\n",
        "# LSTM layer\n",
        "model.add(LSTM(128, input_shape=(max_sequence_length, embedding_size),return_sequences=True))\n",
        "model.add(LSTM(32))\n",
        "model.add(Dropout(0.2))\n",
        "# sigmoid for binary classification\n",
        "model.add(Dense(1, activation='sigmoid'))\n",
        "model.compile(loss='binary_crossentropy', optimizer='adam', metrics=['accuracy'])\n",
        "\n",
        "model.fit(x= train_generator,\n",
        "          steps_per_epoch= steps,\n",
        "          epochs= epochs, verbose = 1)\n",
        "\n",
        "print(model.output)\n",
        "\n",
        "# save model\n",
        "joblib.dump(model, \"lstm_model.pk1\")\n"
      ]
    },
    {
      "cell_type": "code",
      "execution_count": 27,
      "metadata": {},
      "outputs": [
        {
          "name": "stdout",
          "output_type": "stream",
          "text": [
            "89/89 [==============================] - 5s 37ms/step\n"
          ]
        },
        {
          "data": {
            "image/png": "[encoded data removed]",
            "text/plain": [
              "<Figure size 600x400 with 2 Axes>"
            ]
          },
          "metadata": {},
          "output_type": "display_data"
        },
        {
          "name": "stdout",
          "output_type": "stream",
          "text": [
            "0.8670418571931059\n"
          ]
        }
      ],
      "source": [
        "#Plot LSTM Neural Network confusion matrix\n",
        "predictions = model.predict(X_test)\n",
        "threshold = 0.5\n",
        "y_pred = (predictions > threshold).astype(int)\n",
        "cf_matrix = confusion_matrix(y_test, y_pred)\n",
        "categories = ['Non-Disaster', 'Disaster']\n",
        "cf_normalized = cf_matrix.astype('float') / cf_matrix.sum(axis=1)[:, np.newaxis]\n",
        "plt.figure(figsize= (6,4))\n",
        "sns.heatmap(cf_normalized, annot=True, fmt='.2f', cmap='Blues',\n",
        "            xticklabels=categories, yticklabels=categories)\n",
        "plt.xlabel('Predicted')\n",
        "plt.ylabel('Actual')\n",
        "plt.title('LSTM Neural Network Confusion Matrix')\n",
        "plt.show()\n",
        "\n",
        "accuracy = (cf_matrix[0, 0] + cf_matrix[1, 1]) / np.sum(cf_matrix)  # Calculate accuracy\n",
        "\n",
        "print(accuracy)"
      ]
    },
    {
      "cell_type": "code",
      "execution_count": 28,
      "metadata": {},
      "outputs": [
        {
          "name": "stdout",
          "output_type": "stream",
          "text": [
            "Epoch 1/5\n",
            "33/33 [==============================] - 18s 220ms/step - loss: 0.4779 - accuracy: 0.8017\n",
            "Epoch 2/5\n",
            "33/33 [==============================] - 7s 223ms/step - loss: 0.3824 - accuracy: 0.8362\n",
            "Epoch 3/5\n",
            "33/33 [==============================] - 7s 209ms/step - loss: 0.3544 - accuracy: 0.8539\n",
            "Epoch 4/5\n",
            "33/33 [==============================] - 7s 206ms/step - loss: 0.3480 - accuracy: 0.8546\n",
            "Epoch 5/5\n",
            "33/33 [==============================] - 7s 206ms/step - loss: 0.3411 - accuracy: 0.8564\n",
            "KerasTensor(type_spec=TensorSpec(shape=(None, 1), dtype=tf.float32, name=None), name='dense_5/Sigmoid:0', description=\"created by layer 'dense_5'\")\n"
          ]
        },
        {
          "data": {
            "text/plain": [
              "['bidirectional_lstm_model.pk1']"
            ]
          },
          "execution_count": 28,
          "metadata": {},
          "output_type": "execute_result"
        }
      ],
      "source": [
        "# Recurrent Neural Networks : Bidirectional LSTM\n",
        "# hyperparameters\n",
        "epochs = 5\n",
        "batches = 256\n",
        "steps = len(X_train)//batches\n",
        "\n",
        "# Data generator\n",
        "train_generator = data_generator(X_train, y_train, batches, index_embed, \"rnn\")\n",
        "\n",
        "# Model architecture\n",
        "model = Sequential()\n",
        "# LSTM input layer\n",
        "model.add(LSTM(128, input_shape=(max_sequence_length, embedding_size),return_sequences=True))\n",
        "model.add(LSTM(64, input_shape=(max_sequence_length, embedding_size),return_sequences=True))\n",
        "# Dropout layer to prevent overfitting\n",
        "model.add(Dropout(0.2))\n",
        "# Bidirectional LSTM layer for extra context\n",
        "model.add(Bidirectional(LSTM(32)))\n",
        "model.add(Dropout(0.2))\n",
        "# sigmoid for binary classification\n",
        "model.add(Dense(1, activation='sigmoid'))\n",
        "model.compile(loss='binary_crossentropy', optimizer='adam', metrics=['accuracy'])\n",
        "\n",
        "model.fit(x= train_generator,\n",
        "          steps_per_epoch= steps,\n",
        "          epochs= epochs, verbose = 1)\n",
        "\n",
        "print(model.output)\n",
        "\n",
        "# save model\n",
        "joblib.dump(model, \"bidirectional_lstm_model.pk1\")\n"
      ]
    },
    {
      "cell_type": "code",
      "execution_count": 29,
      "metadata": {},
      "outputs": [
        {
          "name": "stdout",
          "output_type": "stream",
          "text": [
            "89/89 [==============================] - 4s 26ms/step\n"
          ]
        },
        {
          "data": {
            "image/png": "[encoded data removed]",
            "text/plain": [
              "<Figure size 600x400 with 2 Axes>"
            ]
          },
          "metadata": {},
          "output_type": "display_data"
        },
        {
          "name": "stdout",
          "output_type": "stream",
          "text": [
            "0.861062258177981\n"
          ]
        }
      ],
      "source": [
        "#Plot Bidirectional LSTM Neural Network confusion matrix\n",
        "predictions = model.predict(X_test)\n",
        "threshold = 0.5\n",
        "y_pred = (predictions > threshold).astype(int)\n",
        "cf_matrix = confusion_matrix(y_test, y_pred)\n",
        "categories = ['Non-Disaster', 'Disaster']\n",
        "cf_normalized = cf_matrix.astype('float') / cf_matrix.sum(axis=1)[:, np.newaxis]\n",
        "plt.figure(figsize= (6,4))\n",
        "sns.heatmap(cf_normalized, annot=True, fmt='.2f', cmap='Blues',\n",
        "            xticklabels=categories, yticklabels=categories)\n",
        "plt.xlabel('Predicted')\n",
        "plt.ylabel('Actual')\n",
        "plt.title('Bidirectional LSTM Neural Network Confusion Matrix')\n",
        "plt.show()\n",
        "\n",
        "accuracy = (cf_matrix[0, 0] + cf_matrix[1, 1]) / np.sum(cf_matrix)  # Calculate accuracy\n",
        "\n",
        "print(accuracy)"
      ]
    }
  ],
  "metadata": {
    "colab": {
      "provenance": []
    },
    "kernelspec": {
      "display_name": "Python 3",
      "name": "python3"
    },
    "language_info": {
      "codemirror_mode": {
        "name": "ipython",
        "version": 3
      },
      "file_extension": ".py",
      "mimetype": "text/x-python",
      "name": "python",
      "nbconvert_exporter": "python",
      "pygments_lexer": "ipython3",
      "version": "3.11.6"
    }
  },
  "nbformat": 4,
  "nbformat_minor": 0
}
