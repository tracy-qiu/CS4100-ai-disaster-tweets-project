{
  "cells": [
    {
      "cell_type": "code",
      "execution_count": 102,
      "metadata": {
        "colab": {
          "base_uri": "https://localhost:8080/"
        },
        "id": "a9H4gMCBSFiQ",
        "outputId": "8bfb20bc-ea89-4ba6-d3a8-7c5379c94522"
      },
      "outputs": [
        {
          "name": "stderr",
          "output_type": "stream",
          "text": [
            "[nltk_data] Downloading package punkt to /Users/tracyqiu/nltk_data...\n",
            "[nltk_data]   Package punkt is already up-to-date!\n",
            "[nltk_data] Downloading package wordnet to\n",
            "[nltk_data]     /Users/tracyqiu/nltk_data...\n",
            "[nltk_data]   Package wordnet is already up-to-date!\n"
          ]
        }
      ],
      "source": [
        "# Import necessary libraries\n",
        "import pandas as pd\n",
        "import numpy as np\n",
        "\n",
        "# NLP libraries\n",
        "import nltk\n",
        "from nltk.stem import WordNetLemmatizer\n",
        "nltk.download('punkt')\n",
        "nltk.download('wordnet')\n",
        "\n",
        "# ML libraries\n",
        "from sklearn import metrics\n",
        "from sklearn.preprocessing import StandardScaler\n",
        "from sklearn.linear_model import LogisticRegression\n",
        "from sklearn.naive_bayes import MultinomialNB\n",
        "from sklearn.feature_extraction.text import CountVectorizer\n",
        "from sklearn.model_selection import train_test_split\n",
        "from sklearn.metrics import confusion_matrix\n",
        "import joblib\n",
        "\n",
        "# Visualization librations\n",
        "import matplotlib.pyplot as plt\n",
        "import seaborn as sns\n",
        "\n",
        "# Word Cloud libraries\n",
        "from wordcloud import WordCloud, STOPWORDS \n",
        "from PIL import Image\n",
        "import requests"
      ]
    },
    {
      "cell_type": "code",
      "execution_count": 103,
      "metadata": {
        "id": "DOkUpI-WSH8n"
      },
      "outputs": [],
      "source": [
        "# lemmatizer\n",
        "lm = WordNetLemmatizer()\n",
        "\n",
        "# Checks if given word contains a special character\n",
        "def contains_special(word):\n",
        "    for char in word:\n",
        "        if char.isnumeric() or (not char.isalnum()):\n",
        "            return True\n",
        "    return False\n",
        "\n",
        "# process sentences\n",
        "def process_sentences(sentence):\n",
        "    # tokenize, lemmatize, and remove special characters\n",
        "    processed = [lm.lemmatize(word.lower()) for word in nltk.word_tokenize(sentence)\n",
        "          # make sure no strings that contain only numeric characters\n",
        "          if not contains_special(word)]\n",
        "    return ' '.join(processed)"
      ]
    },
    {
      "cell_type": "code",
      "execution_count": 104,
      "metadata": {
        "id": "52uaa-DwYYTR"
      },
      "outputs": [],
      "source": [
        "# get data\n",
        "df = pd.read_csv('tweets.csv')\n",
        "# drop duplicates\n",
        "df.drop_duplicates(inplace =True)"
      ]
    },
    {
      "cell_type": "code",
      "execution_count": 105,
      "metadata": {
        "colab": {
          "base_uri": "https://localhost:8080/"
        },
        "id": "vbN4bruno61m",
        "outputId": "01046654-d23d-4cf7-d9ae-673c37911375"
      },
      "outputs": [
        {
          "data": {
            "text/plain": [
              "target\n",
              "0    9256\n",
              "1    2114\n",
              "Name: count, dtype: int64"
            ]
          },
          "execution_count": 105,
          "metadata": {},
          "output_type": "execute_result"
        }
      ],
      "source": [
        "df['target'].value_counts()"
      ]
    },
    {
      "cell_type": "code",
      "execution_count": 106,
      "metadata": {
        "colab": {
          "base_uri": "https://localhost:8080/"
        },
        "id": "qZLW4iIRYHVX",
        "outputId": "f9d4cd99-a1ca-4f02-ec34-5437b6595d6d"
      },
      "outputs": [
        {
          "name": "stdout",
          "output_type": "stream",
          "text": [
            "Vocab size: 16985\n"
          ]
        },
        {
          "data": {
            "text/plain": [
              "['vectorizer.pk1']"
            ]
          },
          "execution_count": 106,
          "metadata": {},
          "output_type": "execute_result"
        }
      ],
      "source": [
        "# text pre-processing\n",
        "df[\"text\"] = df[\"text\"].apply(process_sentences)\n",
        "\n",
        "# Convert text data into BoW features\n",
        "vectorizer = CountVectorizer()\n",
        "X = vectorizer.fit_transform(df[\"text\"])\n",
        "vocabulary = vectorizer.vocabulary_\n",
        "print('Vocab size: ' + str(len(vocabulary)))\n",
        "joblib.dump(vectorizer, \"vectorizer.pk1\")\n"
      ]
    },
    {
      "cell_type": "code",
      "execution_count": 107,
      "metadata": {
        "colab": {
          "base_uri": "https://localhost:8080/"
        },
        "id": "FxhQM70ZYc9v",
        "outputId": "b33a9144-af2a-42e0-e155-c91809ed2221"
      },
      "outputs": [
        {
          "name": "stdout",
          "output_type": "stream",
          "text": [
            "communal violence in bhainsa telangana stone were pelted on muslim house and some house and vehicle were set\n",
            "  (0, 2923)\t1\n",
            "  (0, 16126)\t1\n",
            "  (0, 7262)\t1\n",
            "  (0, 1492)\t1\n",
            "  (0, 14891)\t1\n",
            "  (0, 14305)\t1\n",
            "  (0, 16381)\t2\n",
            "  (0, 11052)\t1\n",
            "  (0, 10544)\t1\n",
            "  (0, 9860)\t1\n",
            "  (0, 6955)\t2\n",
            "  (0, 580)\t2\n",
            "  (0, 13916)\t1\n",
            "  (0, 16005)\t1\n",
            "  (0, 13334)\t1\n"
          ]
        }
      ],
      "source": [
        "print(df[\"text\"][0])\n",
        "for f in X[0]:\n",
        "  print(f)"
      ]
    },
    {
      "cell_type": "code",
      "execution_count": 108,
      "metadata": {
        "colab": {
          "base_uri": "https://localhost:8080/"
        },
        "id": "Bq0a9ylnZJ53",
        "outputId": "2b72eb62-90b2-4147-8ba7-bef390f64e39"
      },
      "outputs": [
        {
          "data": {
            "text/plain": [
              "6955"
            ]
          },
          "execution_count": 108,
          "metadata": {},
          "output_type": "execute_result"
        }
      ],
      "source": [
        "vocabulary['house']"
      ]
    },
    {
      "cell_type": "code",
      "execution_count": 109,
      "metadata": {
        "id": "6BKU8gR-eghi"
      },
      "outputs": [],
      "source": [
        "# split data into train and test set\n",
        "X_train, X_test, y_train, y_test = train_test_split(X.toarray(), df['target'], test_size=0.25, random_state=1)"
      ]
    },
    {
      "cell_type": "code",
      "execution_count": 110,
      "metadata": {
        "colab": {
          "base_uri": "https://localhost:8080/"
        },
        "id": "Cq-bGF8QoqZG",
        "outputId": "e11a3a43-88dc-493f-b9ac-146b289b671d"
      },
      "outputs": [
        {
          "name": "stdout",
          "output_type": "stream",
          "text": [
            "Naive Bayes\n",
            "\n",
            "accuracy: 0.8695040450228632\n",
            "              precision    recall  f1-score   support\n",
            "\n",
            "           0       0.92      0.93      0.92      2321\n",
            "           1       0.65      0.62      0.64       522\n",
            "\n",
            "    accuracy                           0.87      2843\n",
            "   macro avg       0.78      0.77      0.78      2843\n",
            "weighted avg       0.87      0.87      0.87      2843\n",
            "\n"
          ]
        }
      ],
      "source": [
        "# Naive Bayes\n",
        "def naive_bayes(X_train, X_test, y_train, y_test):\n",
        "    # increased max iter to prevent early time out\n",
        "    clf = MultinomialNB().fit(X_train, y_train)\n",
        "    y_pred = clf.predict(X_test)\n",
        "    print('accuracy:', metrics.accuracy_score(y_test, y_pred))\n",
        "    print(metrics.classification_report(y_test,\n",
        "                                    y_pred))\n",
        "    \n",
        "    # save model\n",
        "    joblib.dump(clf, \"naive_bayes_model.pk1\")\n",
        "\n",
        "    return y_pred\n",
        "\n",
        "print('Naive Bayes\\n')\n",
        "ypred_nb = naive_bayes(X_train, X_test, y_train, y_test)"
      ]
    },
    {
      "cell_type": "code",
      "execution_count": 111,
      "metadata": {},
      "outputs": [
        {
          "data": {
            "image/png": "[encoded data removed]",
            "text/plain": [
              "<Figure size 600x400 with 2 Axes>"
            ]
          },
          "metadata": {},
          "output_type": "display_data"
        }
      ],
      "source": [
        "#Plot Naive Bayes confusion matrix\n",
        "cf_matrix = confusion_matrix(y_test, ypred_nb)\n",
        "categories = ['Non-Disaster', 'Disaster']\n",
        "cf_normalized = cf_matrix.astype('float') / cf_matrix.sum(axis=1)[:, np.newaxis]\n",
        "plt.figure(figsize= (6,4))\n",
        "sns.heatmap(cf_normalized, annot=True, fmt='.2f', cmap='Blues',\n",
        "            xticklabels=categories, yticklabels=categories)\n",
        "plt.xlabel('Predicted')\n",
        "plt.ylabel('Actual')\n",
        "plt.title('Naive Bayes Confusion Matrix')\n",
        "plt.show()\n"
      ]
    },
    {
      "cell_type": "code",
      "execution_count": 112,
      "metadata": {
        "colab": {
          "base_uri": "https://localhost:8080/"
        },
        "id": "yT6YA0Qjfl3a",
        "outputId": "068988b5-eeaa-46db-b4e1-eda825a8bfed"
      },
      "outputs": [
        {
          "name": "stdout",
          "output_type": "stream",
          "text": [
            "Logistic Regression\n",
            "\n",
            "accuracy: 0.8712627506155469\n",
            "              precision    recall  f1-score   support\n",
            "\n",
            "           0       0.91      0.94      0.92      2321\n",
            "           1       0.67      0.58      0.62       522\n",
            "\n",
            "    accuracy                           0.87      2843\n",
            "   macro avg       0.79      0.76      0.77      2843\n",
            "weighted avg       0.87      0.87      0.87      2843\n",
            "\n"
          ]
        }
      ],
      "source": [
        "# Logistic Regression\n",
        "def logistic_regression(X_train, X_test, y_train, y_test):\n",
        "    scaler = StandardScaler()\n",
        "    # scale data to reduce ranges\n",
        "    X_train = scaler.fit_transform(X_train)\n",
        "    X_test = scaler.transform(X_test)\n",
        "    # increased max iter to prevent early time out\n",
        "    clf = LogisticRegression(max_iter = 500).fit(X_train, y_train)\n",
        "    y_pred = clf.predict(X_test)\n",
        "    print('accuracy:', metrics.accuracy_score(y_test, y_pred))\n",
        "    print(metrics.classification_report(y_test,\n",
        "                                    y_pred))\n",
        "\n",
        "    # save model\n",
        "    joblib.dump(clf, \"logistic_regression_model.pk1\")\n",
        "\n",
        "    return y_pred\n",
        "\n",
        "print('Logistic Regression\\n')\n",
        "ypred_lr = logistic_regression(X_train, X_test, y_train, y_test)"
      ]
    },
    {
      "cell_type": "code",
      "execution_count": 113,
      "metadata": {
        "id": "tb6nyfLbjoJI"
      },
      "outputs": [
        {
          "data": {
            "image/png": "[encoded data removed]",
            "text/plain": [
              "<Figure size 600x400 with 2 Axes>"
            ]
          },
          "metadata": {},
          "output_type": "display_data"
        }
      ],
      "source": [
        "#Plot Logistic Regression confusion matrix\n",
        "cf_matrix = confusion_matrix(y_test, ypred_lr)\n",
        "categories = ['Non-Disaster', 'Disaster']\n",
        "cf_normalized = cf_matrix.astype('float') / cf_matrix.sum(axis=1)[:, np.newaxis]\n",
        "plt.figure(figsize= (6,4))\n",
        "sns.heatmap(cf_normalized, annot=True, fmt='.2f', cmap='Blues',\n",
        "            xticklabels=categories, yticklabels=categories)\n",
        "plt.xlabel('Predicted')\n",
        "plt.ylabel('Actual')\n",
        "plt.title('Logistic Regression Confusion Matrix')\n",
        "plt.show()"
      ]
    }
  ],
  "metadata": {
    "colab": {
      "provenance": []
    },
    "kernelspec": {
      "display_name": "Python 3",
      "name": "python3"
    },
    "language_info": {
      "codemirror_mode": {
        "name": "ipython",
        "version": 3
      },
      "file_extension": ".py",
      "mimetype": "text/x-python",
      "name": "python",
      "nbconvert_exporter": "python",
      "pygments_lexer": "ipython3",
      "version": "3.10.0"
    }
  },
  "nbformat": 4,
  "nbformat_minor": 0
}
