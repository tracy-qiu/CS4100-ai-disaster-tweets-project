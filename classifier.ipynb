{
  "nbformat": 4,
  "nbformat_minor": 0,
  "metadata": {
    "colab": {
      "provenance": []
    },
    "kernelspec": {
      "name": "python3",
      "display_name": "Python 3"
    },
    "language_info": {
      "name": "python"
    }
  },
  "cells": [
    {
      "cell_type": "code",
      "execution_count": 5,
      "metadata": {
        "colab": {
          "base_uri": "https://localhost:8080/"
        },
        "id": "a9H4gMCBSFiQ",
        "outputId": "8bfb20bc-ea89-4ba6-d3a8-7c5379c94522"
      },
      "outputs": [
        {
          "output_type": "stream",
          "name": "stderr",
          "text": [
            "[nltk_data] Downloading package punkt to /root/nltk_data...\n",
            "[nltk_data]   Package punkt is already up-to-date!\n",
            "[nltk_data] Downloading package wordnet to /root/nltk_data...\n",
            "[nltk_data]   Package wordnet is already up-to-date!\n"
          ]
        }
      ],
      "source": [
        "# Import necessary libraries\n",
        "import pandas as pd\n",
        "import numpy as np\n",
        "\n",
        "# NLP libraries\n",
        "import nltk\n",
        "from nltk.stem import WordNetLemmatizer\n",
        "nltk.download('punkt')\n",
        "nltk.download('wordnet')\n",
        "\n",
        "# ML libraries\n",
        "from sklearn import metrics\n",
        "from sklearn.preprocessing import StandardScaler\n",
        "from sklearn.linear_model import LogisticRegression\n",
        "from sklearn.naive_bayes import MultinomialNB\n",
        "from sklearn.feature_extraction.text import CountVectorizer\n",
        "from sklearn.model_selection import train_test_split"
      ]
    },
    {
      "cell_type": "code",
      "source": [
        "# lemmatizer\n",
        "lm = WordNetLemmatizer()\n",
        "\n",
        "# Checks if given word contains a special character\n",
        "def contains_special(word):\n",
        "    for char in word:\n",
        "        if char.isnumeric() or (not char.isalnum()):\n",
        "            return True\n",
        "    return False\n",
        "\n",
        "# process sentences\n",
        "def process_sentences(sentence):\n",
        "    # tokenize, lemmatize, and remove special characters\n",
        "    processed = [lm.lemmatize(word.lower()) for word in nltk.word_tokenize(sentence)\n",
        "          # make sure no strings that contain only numeric characters\n",
        "          if not contains_special(word)]\n",
        "    return ' '.join(processed)"
      ],
      "metadata": {
        "id": "DOkUpI-WSH8n"
      },
      "execution_count": 15,
      "outputs": []
    },
    {
      "cell_type": "code",
      "source": [
        "# get data\n",
        "df = pd.read_csv('tweets.csv')\n",
        "# drop duplicates\n",
        "df.drop_duplicates(inplace =True)"
      ],
      "metadata": {
        "id": "52uaa-DwYYTR"
      },
      "execution_count": 33,
      "outputs": []
    },
    {
      "cell_type": "code",
      "source": [
        "df['target'].value_counts()"
      ],
      "metadata": {
        "colab": {
          "base_uri": "https://localhost:8080/"
        },
        "id": "vbN4bruno61m",
        "outputId": "01046654-d23d-4cf7-d9ae-673c37911375"
      },
      "execution_count": 34,
      "outputs": [
        {
          "output_type": "execute_result",
          "data": {
            "text/plain": [
              "0    9256\n",
              "1    2114\n",
              "Name: target, dtype: int64"
            ]
          },
          "metadata": {},
          "execution_count": 34
        }
      ]
    },
    {
      "cell_type": "code",
      "source": [
        "# text pre-processing\n",
        "df[\"text\"] = df[\"text\"].apply(process_sentences)\n",
        "\n",
        "# Convert text data into BoW features\n",
        "vectorizer = CountVectorizer()\n",
        "X = vectorizer.fit_transform(df[\"text\"])\n",
        "vocabulary = vectorizer.vocabulary_\n",
        "print('Vocab size: ' + str(len(vocabulary)))"
      ],
      "metadata": {
        "colab": {
          "base_uri": "https://localhost:8080/"
        },
        "id": "qZLW4iIRYHVX",
        "outputId": "f9d4cd99-a1ca-4f02-ec34-5437b6595d6d"
      },
      "execution_count": 35,
      "outputs": [
        {
          "output_type": "stream",
          "name": "stdout",
          "text": [
            "Vocab size: 16985\n"
          ]
        }
      ]
    },
    {
      "cell_type": "code",
      "source": [
        "print(df[\"text\"][0])\n",
        "for f in X[0]:\n",
        "  print(f)"
      ],
      "metadata": {
        "colab": {
          "base_uri": "https://localhost:8080/"
        },
        "id": "FxhQM70ZYc9v",
        "outputId": "b33a9144-af2a-42e0-e155-c91809ed2221"
      },
      "execution_count": 32,
      "outputs": [
        {
          "output_type": "stream",
          "name": "stdout",
          "text": [
            "communal violence in bhainsa telangana stone were pelted on muslim house and some house and vehicle were set\n",
            "  (0, 2921)\t1\n",
            "  (0, 16119)\t1\n",
            "  (0, 7259)\t1\n",
            "  (0, 1491)\t1\n",
            "  (0, 14885)\t1\n",
            "  (0, 14299)\t1\n",
            "  (0, 16374)\t2\n",
            "  (0, 11048)\t1\n",
            "  (0, 10541)\t1\n",
            "  (0, 9857)\t1\n",
            "  (0, 6952)\t2\n",
            "  (0, 580)\t2\n",
            "  (0, 13911)\t1\n",
            "  (0, 15998)\t1\n",
            "  (0, 13330)\t1\n"
          ]
        }
      ]
    },
    {
      "cell_type": "code",
      "source": [
        "vocabulary['house']"
      ],
      "metadata": {
        "colab": {
          "base_uri": "https://localhost:8080/"
        },
        "id": "Bq0a9ylnZJ53",
        "outputId": "2b72eb62-90b2-4147-8ba7-bef390f64e39"
      },
      "execution_count": 20,
      "outputs": [
        {
          "output_type": "execute_result",
          "data": {
            "text/plain": [
              "6955"
            ]
          },
          "metadata": {},
          "execution_count": 20
        }
      ]
    },
    {
      "cell_type": "code",
      "source": [
        "# split data into train and test set\n",
        "X_train, X_test, y_train, y_test = train_test_split(X.toarray(), df['target'], test_size=0.25, random_state=1)"
      ],
      "metadata": {
        "id": "6BKU8gR-eghi"
      },
      "execution_count": 21,
      "outputs": []
    },
    {
      "cell_type": "code",
      "source": [
        "# Naive Bayes\n",
        "def naive_bayes(X_train, X_test, y_train, y_test):\n",
        "    # increased max iter to prevent early time out\n",
        "    clf = MultinomialNB().fit(X_train, y_train)\n",
        "    y_pred = clf.predict(X_test)\n",
        "    print('accuracy:', metrics.accuracy_score(y_test, y_pred))\n",
        "    print(metrics.classification_report(y_test,\n",
        "                                    y_pred))\n",
        "    return y_pred\n",
        "\n",
        "print('Naive Bayes\\n')\n",
        "ypred_lr = naive_bayes(X_train, X_test, y_train, y_test)"
      ],
      "metadata": {
        "colab": {
          "base_uri": "https://localhost:8080/"
        },
        "id": "Cq-bGF8QoqZG",
        "outputId": "e11a3a43-88dc-493f-b9ac-146b289b671d"
      },
      "execution_count": 22,
      "outputs": [
        {
          "output_type": "stream",
          "name": "stdout",
          "text": [
            "Naive Bayes\n",
            "\n",
            "accuracy: 0.8695040450228632\n",
            "              precision    recall  f1-score   support\n",
            "\n",
            "           0       0.92      0.93      0.92      2321\n",
            "           1       0.65      0.62      0.64       522\n",
            "\n",
            "    accuracy                           0.87      2843\n",
            "   macro avg       0.78      0.77      0.78      2843\n",
            "weighted avg       0.87      0.87      0.87      2843\n",
            "\n"
          ]
        }
      ]
    },
    {
      "cell_type": "code",
      "source": [
        "# Logistic Regression\n",
        "def logistic_regression(X_train, X_test, y_train, y_test):\n",
        "    scaler = StandardScaler()\n",
        "    # scale data to reduce ranges\n",
        "    X_train = scaler.fit_transform(X_train)\n",
        "    X_test = scaler.transform(X_test)\n",
        "    # increased max iter to prevent early time out\n",
        "    clf = LogisticRegression(max_iter = 500).fit(X_train, y_train)\n",
        "    y_pred = clf.predict(X_test)\n",
        "    print('accuracy:', metrics.accuracy_score(y_test, y_pred))\n",
        "    print(metrics.classification_report(y_test,\n",
        "                                    y_pred))\n",
        "    return y_pred\n",
        "\n",
        "print('Logistic Regression\\n')\n",
        "ypred_lr = logistic_regression(X_train, X_test, y_train, y_test)"
      ],
      "metadata": {
        "colab": {
          "base_uri": "https://localhost:8080/"
        },
        "id": "yT6YA0Qjfl3a",
        "outputId": "068988b5-eeaa-46db-b4e1-eda825a8bfed"
      },
      "execution_count": 14,
      "outputs": [
        {
          "output_type": "stream",
          "name": "stdout",
          "text": [
            "Logistic Regression\n",
            "\n",
            "accuracy: 0.8712627506155469\n",
            "              precision    recall  f1-score   support\n",
            "\n",
            "           0       0.91      0.94      0.92      2321\n",
            "           1       0.67      0.58      0.62       522\n",
            "\n",
            "    accuracy                           0.87      2843\n",
            "   macro avg       0.79      0.76      0.77      2843\n",
            "weighted avg       0.87      0.87      0.87      2843\n",
            "\n"
          ]
        }
      ]
    },
    {
      "cell_type": "code",
      "source": [],
      "metadata": {
        "id": "tb6nyfLbjoJI"
      },
      "execution_count": 14,
      "outputs": []
    }
  ]
}